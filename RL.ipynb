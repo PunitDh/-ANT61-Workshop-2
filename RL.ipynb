{
 "cells": [
  {
   "cell_type": "code",
   "execution_count": 21,
   "id": "aea26522",
   "metadata": {},
   "outputs": [],
   "source": [
    "import numpy as np\n",
    "import math\n",
    "import pandas as pd\n",
    "\n",
    "# Grid must be a tuple for (rows,cols) sizes of grid\n",
    "# Reward must be an array of tuples (y,x) where reward is placed\n",
    "# Punishment must be an array of tuples (y,x) where punishment is placed\n",
    "\n",
    "class RLearn:\n",
    "    \n",
    "    def __init__(self, grid, rewards, punishments, obstacles):\n",
    "        self.grid = self.create_grid_with_reward_punishment(grid, rewards, punishments, obstacles)\n",
    "        self.actions = ([0,1], [0,-1], [1,0], [-1,0])\n",
    "        self.q_table = self.create_q_table((0,0))\n",
    "    #end\n",
    "\n",
    "    def create_grid_with_reward_punishment(self, grid, rewards, punishments, obstacles):\n",
    "        REWARD = 1\n",
    "        PUNISHMENT = -1\n",
    "        OBSTACLE = -99\n",
    "        grid = np.full((grid[0], grid[1]), -0.1)\n",
    "        for reward in rewards:\n",
    "            grid[reward[0], reward[1]] = REWARD\n",
    "        for punishment in punishments:\n",
    "            grid[punishment[0], punishment[1]] = PUNISHMENT\n",
    "        for obstacle in obstacles:\n",
    "            grid[obstacle[0], obstacle[1]] = OBSTACLE\n",
    "        return grid\n",
    "    #end\n",
    "    \n",
    "    def create_q_table(self, start_position):\n",
    "        row, col = self.grid.shape\n",
    "        table = np.zeros((row*col, len(self.actions)))\n",
    "        return table\n",
    "    #end\n",
    "#end"
   ]
  },
  {
   "cell_type": "code",
   "execution_count": 22,
   "id": "ea01bb9a",
   "metadata": {},
   "outputs": [
    {
     "name": "stdout",
     "output_type": "stream",
     "text": [
      "[[  1.   -0.1 -99. ]\n",
      " [ -0.1  -1.   -0.1]\n",
      " [ -0.1  -0.1  -0.1]]\n"
     ]
    }
   ],
   "source": [
    "rlearn = RLearn((3,3), [(0,0)], [(1,1)], [(0,2)])\n",
    "print(rlearn.grid)"
   ]
  },
  {
   "cell_type": "code",
   "execution_count": 23,
   "id": "1008dced",
   "metadata": {},
   "outputs": [
    {
     "data": {
      "text/plain": [
       "array([[0., 0., 0., 0.],\n",
       "       [0., 0., 0., 0.],\n",
       "       [0., 0., 0., 0.],\n",
       "       [0., 0., 0., 0.],\n",
       "       [0., 0., 0., 0.],\n",
       "       [0., 0., 0., 0.],\n",
       "       [0., 0., 0., 0.],\n",
       "       [0., 0., 0., 0.],\n",
       "       [0., 0., 0., 0.]])"
      ]
     },
     "execution_count": 23,
     "metadata": {},
     "output_type": "execute_result"
    }
   ],
   "source": [
    "rlearn.create_q_table((0,0))"
   ]
  },
  {
   "cell_type": "code",
   "execution_count": 24,
   "id": "4cc0b42c",
   "metadata": {},
   "outputs": [],
   "source": [
    "exploration_rate = 1\n",
    "exploration_rate_decay = 0.001"
   ]
  },
  {
   "cell_type": "code",
   "execution_count": null,
   "id": "80247c3e",
   "metadata": {},
   "outputs": [],
   "source": []
  }
 ],
 "metadata": {
  "kernelspec": {
   "display_name": "Python 3 (ipykernel)",
   "language": "python",
   "name": "python3"
  },
  "language_info": {
   "codemirror_mode": {
    "name": "ipython",
    "version": 3
   },
   "file_extension": ".py",
   "mimetype": "text/x-python",
   "name": "python",
   "nbconvert_exporter": "python",
   "pygments_lexer": "ipython3",
   "version": "3.8.11"
  }
 },
 "nbformat": 4,
 "nbformat_minor": 5
}
